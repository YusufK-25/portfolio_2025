{
 "cells": [
  {
   "cell_type": "raw",
   "metadata": {
    "vscode": {
     "languageId": "raw"
    }
   },
   "source": [
    "---\n",
    "layout: post\n",
    "categories: [Adventure Game]\n",
    "title: Overworld Level Hacks\n",
    "description: Overworld Hacks\n",
    "type: issues \n",
    "comments: true\n",
    "permalink: /overworld/EnemyCollisionHacks\n",
    "---"
   ]
  },
  {
   "cell_type": "markdown",
   "metadata": {},
   "source": [
    "# 🧠 JavaScript Game Dev Lesson: `HomingProjectile` Class\n",
    "\n",
    "In this lesson, we'll explore a custom JavaScript class called `HomingProjectile` that represents a homing missile in a 2D game. This projectile chases a moving target using simple steering physics.\n",
    "\n",
    "---\n",
    "\n",
    "## 🔍 Overview\n",
    "\n",
    "The `HomingProjectile` is a smart projectile designed to:\n",
    "\n",
    "- Track and steer toward a moving target.\n",
    "- Detect collisions.\n",
    "- Self-remove when off-screen or after hitting the target.\n",
    "- Render itself visually on the canvas.\n",
    "\n",
    "---\n",
    "\n",
    "## 🛠️ Constructor Breakdown\n",
    "\n",
    "The constructor is defined as:\n",
    "\n",
    "```js\n",
    "constructor(x, y, target, gameEnv, speed = 5, turnRate = 0.08)\n"
   ]
  },
  {
   "cell_type": "markdown",
   "metadata": {},
   "source": [
    "\n",
    "This initializes the projectile heading directly toward the target.\n",
    "\n",
    "---\n",
    "\n",
    "## 🔄 The `update()` Method\n",
    "\n",
    "The `update` method is called every frame to move and manage the projectile.\n",
    "\n",
    "### 1. ❌ Validity Checks\n",
    "\n",
    "The method first checks if the projectile is still `active`, whether the target is still valid, and whether the position is not corrupted (`NaN` values). If any of these conditions fail, it removes the projectile using `markForRemoval()`.\n",
    "\n",
    "---\n",
    "\n",
    "### 2. 🎯 Collision Detection\n",
    "\n",
    "The distance to the target is calculated using the Pythagorean theorem:\n",
    "\n"
   ]
  }
 ],
 "metadata": {
  "kernelspec": {
   "display_name": "venv",
   "language": "python",
   "name": "python3"
  },
  "language_info": {
   "codemirror_mode": {
    "name": "ipython",
    "version": 3
   },
   "file_extension": ".py",
   "mimetype": "text/x-python",
   "name": "python",
   "nbconvert_exporter": "python",
   "pygments_lexer": "ipython3",
   "version": "3.13.2"
  }
 },
 "nbformat": 4,
 "nbformat_minor": 2
}
