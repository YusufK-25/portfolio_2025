{
 "cells": [
  {
   "cell_type": "markdown",
   "metadata": {},
   "source": [
    "# Lesson: Sprite Sheet Animation\n",
    "## What is a Sprite Sheet?\n",
    "In game development, a *sprite sheet* is a single image that contains multiple frames of a character or object in different poses or actions. Instead of loading multiple image files, we load one image and show different sections of it over time — creating the illusion of animation.\n",
    "\n",
    "### Sprite sheets are used for\n",
    "- **Character Animations** (Walking, Jumping, Etc.)\n",
    "- **Enemy behavior**\n",
    "- **Boundary Blocks** (fire, explosions, etc.)\n",
    "---\n",
    "## How Sprite Sheets Work:\n",
    "A sprite sheet is divided into frames. Each frame is a part of the image, usually arranged in rows and columns.\n",
    "### How to Use Sprite Sheets in JavaScript:\n",
    "JavaScript + HTML5 Canvas can be used to load a sprite sheet and animate it by drawing different frames at each time step.\n",
    "\n",
    "### Sprite Object Properties:\n",
    "To animate, we usually track:\n",
    "- frameWidth, frameHeight: Size of each frame\n",
    "- frameIndex: The current frame we’re showing\n",
    "- frameCount: Total number of frames\n",
    "- frameTimer: Tracks time between frames\n",
    "- frameInterval: Milliseconds between each frame (controls speed)\n",
    "\n",
    "---\n",
    "## How Animation Frames Work in Characther Object:\n",
    "Each game level defines characters using objects that track their animation state. These objects include properties for:\n",
    "\n",
    "- CurrentFrame: Which frame of the animation is currently showing\n",
    "- action: What the character is doing (idle, punch, kick)\n",
    "- actionMap: Maps action names to sprite sheet rows\n",
    "- frameTimer / frameInterval: Control animation speed\n",
    "\n",
    "### Why it's important:\n",
    "These properties let each level customize how characters animate without rewriting code. For example, in GameLevelEnd, the same character might have different actions or move faster, just by changing actionMap or frameInterval.\n",
    "\n",
    "\n",
    "  "
   ]
  },
  {
   "cell_type": "markdown",
   "metadata": {},
   "source": [
    "# Hack: Create a Fighter with Sprite Sheet Moves\n",
    "**Task**: Create a character that can idle, punch, and kick using different sprite sheets (or animation rows). Switch animations based on key presses.\n",
    "\n",
    "###  What You’ll Need:\n",
    "**Create the Block**: Three different sprite sheets (Or one with multiple rows,each row should have the same number of frames and the same frame size.), one for `Punch`, `Kick`, and `Idle`.\n",
    "\n",
    "- Below is an example of how its implemented, but DONT COPY AND PASTE IT, implement it into the level of your choice and play around with the values. We wont accept just duplicates since this code isnt fully correct.\n",
    "\n"
   ]
  },
  {
   "cell_type": "code",
   "execution_count": null,
   "metadata": {
    "vscode": {
     "languageId": "javascript"
    }
   },
   "outputs": [],
   "source": [
    "const actions = {\n",
    "    idle: 0,\n",
    "    punch: 1,\n",
    "    kick: 2\n",
    "  };\n",
    "  \n",
    "  let currentAction = \"idle\";\n",
    "  \n",
    "  document.addEventListener(\"keydown\", (e) => {\n",
    "    if (e.key === \"a\") currentAction = \"punch\";\n",
    "    else if (e.key === \"s\") currentAction = \"kick\";\n",
    "  });\n",
    "  \n",
    "  document.addEventListener(\"keyup\", (e) => {\n",
    "    if (e.key === \"a\" || e.key === \"s\") currentAction = \"idle\";\n",
    "  });\n",
    "  \n",
    "  // inside drawFrame()\n",
    "  ctx.drawImage(\n",
    "    sprite,\n",
    "    character.currentFrame * character.frameWidth,\n",
    "    actions[currentAction] * character.frameHeight, // different row\n",
    "    character.frameWidth,\n",
    "    character.frameHeight,\n",
    "    character.x,\n",
    "    character.y,\n",
    "    character.frameWidth,\n",
    "    character.frameHeight\n",
    "  );"
   ]
  }
 ],
 "metadata": {
  "kernelspec": {
   "display_name": "venv",
   "language": "python",
   "name": "python3"
  },
  "language_info": {
   "name": "python",
   "version": "3.12.3"
  }
 },
 "nbformat": 4,
 "nbformat_minor": 2
}
